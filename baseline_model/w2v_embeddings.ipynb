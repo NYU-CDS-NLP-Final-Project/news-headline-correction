{
 "cells": [
  {
   "cell_type": "code",
   "execution_count": 46,
   "id": "4cf77d7b",
   "metadata": {},
   "outputs": [],
   "source": [
    "import pandas as pd\n",
    "import numpy as np\n",
    "from gensim.models import Word2Vec\n",
    "from gensim.models import KeyedVectors\n",
    "import gensim\n",
    "import gensim.downloader\n",
    "import nltk\n",
    "from nltk import word_tokenize\n",
    "import tqdm\n",
    "from tqdm.notebook import tqdm\n",
    "from IPython.display import display\n",
    "tqdm.pandas()\n",
    "import warnings as wrn\n",
    "wrn.filterwarnings(\"ignore\")\n",
    "\n",
    "\n"
   ]
  },
  {
   "cell_type": "code",
   "execution_count": 47,
   "id": "a322f0de",
   "metadata": {},
   "outputs": [],
   "source": [
    "# Read in Data\n",
    "train_bodies = pd.read_csv('train_bodies_preprocessed_nontokenized.csv')\n",
    "train_stances = pd.read_csv('train_stances_preprocessed_nontokenized.csv')\n",
    "test_bodies = pd.read_csv('test_bodies_preprocessed_nontokenized.csv')\n",
    "test_stances = pd.read_csv('test_stances_preprocessed_nontokenized.csv')\n"
   ]
  },
  {
   "cell_type": "code",
   "execution_count": 56,
   "id": "434cc346",
   "metadata": {},
   "outputs": [],
   "source": [
    "#Word2Vec Embeddings\n",
    "def Word2Vec_embeddings(corpus, model_file_path):\n",
    "    # Tokenize the sentences\n",
    "    tokenized_corpus = [word_tokenize(doc.lower()) for doc in corpus]\n",
    "\n",
    "    # Train Word2Vec model\n",
    "    model = Word2Vec(sentences=tokenized_corpus, vector_size=50, min_count=1, workers=4,seed=7) #Update vector size to 300 if you want to combine with pretrained\n",
    "    \n",
    "    #Save model\n",
    "    model.save('w2v_model.bin')\n",
    "    \n",
    "    return model"
   ]
  },
  {
   "cell_type": "code",
   "execution_count": 57,
   "id": "652b0113",
   "metadata": {},
   "outputs": [],
   "source": [
    "# Concat all text for Word2Vec model - INCLUDE TEST?\n",
    "all_text = list(train_bodies['articleBody'])+list(train_stances['Headline'])+list(test_bodies['articleBody'])+list(test_stances['Headline'])\n"
   ]
  },
  {
   "cell_type": "code",
   "execution_count": 58,
   "id": "7f253ad9",
   "metadata": {},
   "outputs": [
    {
     "data": {
      "application/vnd.jupyter.widget-view+json": {
       "model_id": "f578cfbdbdff4fb9bd33760a6d2cf7b3",
       "version_major": 2,
       "version_minor": 0
      },
      "text/plain": [
       "  0%|          | 0/77972 [00:00<?, ?it/s]"
      ]
     },
     "metadata": {},
     "output_type": "display_data"
    }
   ],
   "source": [
    "# OPTION 1: Train Word2Vec model\n",
    "w2v_model = Word2Vec_embeddings(tqdm(all_text),\"w2v_model.bin\")\n"
   ]
  },
  {
   "cell_type": "code",
   "execution_count": 59,
   "id": "5c15b78b",
   "metadata": {},
   "outputs": [
    {
     "name": "stdout",
     "output_type": "stream",
     "text": [
      "Words similar: [('invisible', 0.7444224953651428), ('fellow', 0.702853798866272), ('westminster', 0.6737372875213623), ('university', 0.6211186051368713), ('school', 0.6167429089546204)]\n"
     ]
    }
   ],
   "source": [
    "# OPTION 1: Results\n",
    "w2v_model = Word2Vec.load(\"w2v_model.bin\")\n",
    "similar_words = w2v_model.wv.most_similar('student', topn=5)\n",
    "print(f\"Words similar: {similar_words}\")"
   ]
  },
  {
   "cell_type": "code",
   "execution_count": null,
   "id": "183c4954",
   "metadata": {},
   "outputs": [],
   "source": [
    "# OPTION 2: Pretrained model\n",
    "pretrained_w2v_model = gensim.downloader.load('word2vec-google-news-300')\n"
   ]
  },
  {
   "cell_type": "code",
   "execution_count": 106,
   "id": "7b2aab0a",
   "metadata": {
    "scrolled": true
   },
   "outputs": [],
   "source": [
    "pretrained_w2v_model.save_word2vec_format('pretrained_w2v_model.bin')"
   ]
  },
  {
   "cell_type": "code",
   "execution_count": 39,
   "id": "fa70360e",
   "metadata": {},
   "outputs": [],
   "source": [
    "pretrained_w2v_model =  KeyedVectors.load_word2vec_format('pretrained_w2v_model.bin', encoding='latin1')"
   ]
  },
  {
   "cell_type": "code",
   "execution_count": 40,
   "id": "86ae703a",
   "metadata": {},
   "outputs": [
    {
     "data": {
      "text/plain": [
       "[('students', 0.7294867038726807),\n",
       " ('Student', 0.6706663370132446),\n",
       " ('teacher', 0.6301366686820984),\n",
       " ('stu_dent', 0.6240991950035095),\n",
       " ('faculty', 0.6087332963943481)]"
      ]
     },
     "execution_count": 40,
     "metadata": {},
     "output_type": "execute_result"
    }
   ],
   "source": [
    "# OPTION 2: Results\n",
    "pretrained_w2v_model.most_similar('student',topn=5)"
   ]
  },
  {
   "cell_type": "code",
   "execution_count": null,
   "id": "a4455593",
   "metadata": {},
   "outputs": [],
   "source": []
  }
 ],
 "metadata": {
  "kernelspec": {
   "display_name": "Python 3 (ipykernel)",
   "language": "python",
   "name": "python3"
  },
  "language_info": {
   "codemirror_mode": {
    "name": "ipython",
    "version": 3
   },
   "file_extension": ".py",
   "mimetype": "text/x-python",
   "name": "python",
   "nbconvert_exporter": "python",
   "pygments_lexer": "ipython3",
   "version": "3.9.10"
  }
 },
 "nbformat": 4,
 "nbformat_minor": 5
}
